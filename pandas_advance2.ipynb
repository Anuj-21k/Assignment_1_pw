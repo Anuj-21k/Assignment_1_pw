{
  "nbformat": 4,
  "nbformat_minor": 0,
  "metadata": {
    "colab": {
      "provenance": [],
      "authorship_tag": "ABX9TyPJtpxexoH3CkkrcuS8btSX"
    },
    "kernelspec": {
      "name": "python3",
      "display_name": "Python 3"
    },
    "language_info": {
      "name": "python"
    }
  },
  "cells": [
    {
      "cell_type": "code",
      "execution_count": 3,
      "metadata": {
        "colab": {
          "base_uri": "https://localhost:8080/"
        },
        "id": "ELFoY48NTVhC",
        "outputId": "f2d07d09-f5e4-45d7-84da-0b8900973bbd"
      },
      "outputs": [
        {
          "output_type": "stream",
          "name": "stdout",
          "text": [
            "        course_name  duration\n",
            "0      Data Science         2\n",
            "1  Machine Learning         3\n",
            "2          Big Data         6\n",
            "3     Data Engineer         4\n"
          ]
        }
      ],
      "source": [
        "import pandas as pd\n",
        "\n",
        "course_name = ['Data Science', 'Machine Learning', 'Big Data', 'Data Engineer']\n",
        "duration = [2, 3, 6, 4]\n",
        "\n",
        "df = pd.DataFrame(data = {'course_name': course_name, 'duration': duration})\n",
        "\n",
        "print(df)"
      ]
    },
    {
      "cell_type": "markdown",
      "source": [
        "# Q1. Write a code to print the data present in the second row of the dataframe, df."
      ],
      "metadata": {
        "id": "h-NTZXHeUC83"
      }
    },
    {
      "cell_type": "code",
      "source": [
        "# Print the second row of the DataFrame\n",
        "print(df.iloc[1])"
      ],
      "metadata": {
        "colab": {
          "base_uri": "https://localhost:8080/"
        },
        "id": "27KwU6ciTdGk",
        "outputId": "60f0e740-f12d-4faa-b8b8-5361a8cd0b79"
      },
      "execution_count": 4,
      "outputs": [
        {
          "output_type": "stream",
          "name": "stdout",
          "text": [
            "course_name    Machine Learning\n",
            "duration                      3\n",
            "Name: 1, dtype: object\n"
          ]
        }
      ]
    },
    {
      "cell_type": "markdown",
      "source": [
        "# Q2. What is the difference between the functions loc and iloc in pandas.DataFrame?"
      ],
      "metadata": {
        "id": "egkf0IaXUMVr"
      }
    },
    {
      "cell_type": "markdown",
      "source": [
        "Ans:\n",
        "\n",
        "loc[]:\n",
        "Accesses by label: loc[] is used to access rows and columns based on their labels (i.e., the actual row/column index labels).\n",
        "\n",
        "Includes the endpoint: When you slice with loc[], the range includes the specified end point.\n",
        "\n",
        "Can be used with boolean conditions: You can pass a boolean condition to select rows."
      ],
      "metadata": {
        "id": "17CPZHY3UOYv"
      }
    },
    {
      "cell_type": "code",
      "source": [
        "df = pd.DataFrame({\n",
        "    'course_name': ['Data Science', 'Machine Learning', 'Big Data', 'Data Engineer'],\n",
        "    'duration': [2, 3, 6, 4]\n",
        "}, index=['A', 'B', 'C', 'D'])\n",
        "\n",
        "# Access by row label\n",
        "print(df.loc['B'])"
      ],
      "metadata": {
        "colab": {
          "base_uri": "https://localhost:8080/"
        },
        "id": "9kYRvQU5UGFJ",
        "outputId": "79d86bf2-58eb-41a0-e538-6e4b6657c30a"
      },
      "execution_count": 6,
      "outputs": [
        {
          "output_type": "stream",
          "name": "stdout",
          "text": [
            "course_name    Machine Learning\n",
            "duration                      3\n",
            "Name: B, dtype: object\n"
          ]
        }
      ]
    },
    {
      "cell_type": "markdown",
      "source": [
        " Q3.\n",
        "Reindex the given dataframe using a variable, reindex = [3,0,1,2] and store it in the variable, new_df\n",
        "then find the output for both new_df.loc[2] and new_df.iloc[2].\n",
        "Did you observe any difference in both the outputs? If so then explain it.\n",
        "Consider the below code to answer further questions:\n",
        "import pandas as pd\n",
        "import numpy as np\n",
        "columns = ['column_1', 'column_2', 'column_3', 'column_4', 'column_5', 'column_6']\n",
        "indices = [1,2,3,4,5,6]\n",
        "Creating a dataframe:\n",
        "df1 = pd.DataFrame(np.random.rand(6,6), columns = columns, index = indices)"
      ],
      "metadata": {
        "id": "O1MUus7BUk58"
      }
    },
    {
      "cell_type": "code",
      "source": [
        "import pandas as pd\n",
        "import numpy as np\n",
        "\n",
        "# Creating a DataFrame\n",
        "columns = ['column_1', 'column_2', 'column_3', 'column_4', 'column_5', 'column_6']\n",
        "indices = [1, 2, 3, 4, 5, 6]\n",
        "df1 = pd.DataFrame(np.random.rand(6, 6), columns=columns, index=indices)\n",
        "\n",
        "# Reindex the DataFrame using a variable reindex\n",
        "reindex = [3, 0, 1, 2]\n",
        "new_df = df1.iloc[reindex].reset_index(drop=True)\n",
        "\n",
        "# Output for new_df.loc[2] and new_df.iloc[2]\n",
        "loc_output = new_df.loc[2]\n",
        "iloc_output = new_df.iloc[2]\n",
        "\n",
        "print(\"new_df.loc[2]:\")\n",
        "print(loc_output)\n",
        "\n",
        "print(\"\\nnew_df.iloc[2]:\")\n",
        "print(iloc_output)"
      ],
      "metadata": {
        "colab": {
          "base_uri": "https://localhost:8080/"
        },
        "id": "4ZL-2U_9Ua-3",
        "outputId": "2dd9cd7a-52ab-426c-c914-1045ca224f33"
      },
      "execution_count": 7,
      "outputs": [
        {
          "output_type": "stream",
          "name": "stdout",
          "text": [
            "new_df.loc[2]:\n",
            "column_1    0.059930\n",
            "column_2    0.543515\n",
            "column_3    0.939097\n",
            "column_4    0.100177\n",
            "column_5    0.864890\n",
            "column_6    0.551498\n",
            "Name: 2, dtype: float64\n",
            "\n",
            "new_df.iloc[2]:\n",
            "column_1    0.059930\n",
            "column_2    0.543515\n",
            "column_3    0.939097\n",
            "column_4    0.100177\n",
            "column_5    0.864890\n",
            "column_6    0.551498\n",
            "Name: 2, dtype: float64\n"
          ]
        }
      ]
    },
    {
      "cell_type": "markdown",
      "source": [
        "Difference between loc[2] and iloc[2]:\n",
        "\n",
        "new_df.loc[2]: Refers to the third row based on the new index (0, 1, 2, 3).\n",
        "\n",
        "new_df.iloc[2]: Refers to the third row based on the integer position (0, 1, 2, 3) in the DataFrame."
      ],
      "metadata": {
        "id": "QltaoJj1VLxH"
      }
    },
    {
      "cell_type": "markdown",
      "source": [
        "Q4. Write a code to find the following statistical measurements for the above dataframe df1:\n",
        "(i) mean of each and every column present in the dataframe.\n",
        "(ii) standard deviation of column, ‘column_2’"
      ],
      "metadata": {
        "id": "mvpVRscXVS2n"
      }
    },
    {
      "cell_type": "code",
      "source": [
        "columns = ['column_1', 'column_2', 'column_3', 'column_4', 'column_5', 'column_6']\n",
        "indices = [1, 2, 3, 4, 5, 6]\n",
        "df1 = pd.DataFrame(np.random.rand(6, 6), columns=columns, index=indices)\n",
        "\n",
        "# (i) Mean of each and every column\n",
        "mean_values = df1.mean()\n",
        "print(\"Mean of each column:\")\n",
        "print(mean_values)\n",
        "\n",
        "# (ii) Standard deviation of column 'column_2'\n",
        "std_column_2 = df1['column_2'].std()\n",
        "print(\"\\nStandard deviation of 'column_2':\")\n",
        "print(std_column_2)"
      ],
      "metadata": {
        "colab": {
          "base_uri": "https://localhost:8080/"
        },
        "id": "QFJL9de_VI1d",
        "outputId": "bdce7b5c-d3bb-450f-8014-9bdabf10c9db"
      },
      "execution_count": 8,
      "outputs": [
        {
          "output_type": "stream",
          "name": "stdout",
          "text": [
            "Mean of each column:\n",
            "column_1    0.580103\n",
            "column_2    0.374029\n",
            "column_3    0.496636\n",
            "column_4    0.395933\n",
            "column_5    0.615374\n",
            "column_6    0.344153\n",
            "dtype: float64\n",
            "\n",
            "Standard deviation of 'column_2':\n",
            "0.21435466584388504\n"
          ]
        }
      ]
    },
    {
      "cell_type": "markdown",
      "source": [
        "Q5. Replace the data present in the second row of column, ‘column_2’ by a string variable then find the\n",
        "mean of column, column_2.\n",
        "If you are getting errors in executing it then explain why.\n",
        "[Hint: To replace the data use df1.loc[] and equate this to string data of your choice.]"
      ],
      "metadata": {
        "id": "RWwXg8MaVba3"
      }
    },
    {
      "cell_type": "code",
      "source": [
        "columns = ['column_1', 'column_2', 'column_3', 'column_4', 'column_5', 'column_6']\n",
        "indices = [1, 2, 3, 4, 5, 6]\n",
        "df1 = pd.DataFrame(np.random.rand(6, 6), columns=columns, index=indices)\n",
        "\n",
        "# Replacing the second row of 'column_2' with a string value\n",
        "df1.loc[2, 'column_2'] = 'string_value'\n",
        "\n",
        "# Attempting to calculate the mean of 'column_2'\n",
        "try:\n",
        "    mean_column_2 = df1['column_2'].mean()\n",
        "    print(\"Mean of 'column_2':\", mean_column_2)\n",
        "except Exception as e:\n",
        "    print(\"Error:\", e)"
      ],
      "metadata": {
        "colab": {
          "base_uri": "https://localhost:8080/"
        },
        "id": "uvt73dt9VWq-",
        "outputId": "7ff432d0-845b-4a81-b9a6-18fb886250f9"
      },
      "execution_count": 9,
      "outputs": [
        {
          "output_type": "stream",
          "name": "stdout",
          "text": [
            "Error: unsupported operand type(s) for +: 'float' and 'str'\n"
          ]
        },
        {
          "output_type": "stream",
          "name": "stderr",
          "text": [
            "<ipython-input-9-f89425f5cf3b>:6: FutureWarning: Setting an item of incompatible dtype is deprecated and will raise an error in a future version of pandas. Value 'string_value' has dtype incompatible with float64, please explicitly cast to a compatible dtype first.\n",
            "  df1.loc[2, 'column_2'] = 'string_value'\n"
          ]
        }
      ]
    },
    {
      "cell_type": "markdown",
      "source": [
        "Solution:\n",
        "\n",
        "To avoid this error, you need to ensure that the column remains numeric if you want to compute the mean. You can either convert the column back to numeric values after replacing or handle the data types accordingly."
      ],
      "metadata": {
        "id": "ywwbhF54VjX2"
      }
    },
    {
      "cell_type": "markdown",
      "source": [
        "# Q6. What do you understand about the windows function in pandas and list the types of windows functions?"
      ],
      "metadata": {
        "id": "QOVpgv6LVmyA"
      }
    },
    {
      "cell_type": "markdown",
      "source": [
        "In Pandas, window functions are used to perform calculations across a \"window\" of data points. This window is a subset of the data that is considered for the calculation, and it can slide over the entire dataset (or a subset of it). These functions are often used for calculating moving averages, cumulative sums, or applying other statistics to data in a rolling or expanding manner.\n",
        "\n",
        "\n",
        "Types of Window Functions in Pandas:\n",
        "Rolling Window (Moving Window) Functions:\n",
        "\n",
        "\n",
        "A rolling window computes a statistic over a fixed-size window that moves across the dataset.\n",
        "This is typically used for operations like moving averages, moving sums, etc.\n",
        "Example: rolling() method followed by aggregation functions like .mean(), .sum(), .std(), etc.\n",
        "\n",
        "`df['rolling_mean'] = df['column'].rolling(window=3).mean()`\n",
        "\n",
        "Parameters:\n",
        "\n",
        "window: The size of the window (e.g., 3 for a 3-row window).\n",
        "\n",
        "min_periods: Minimum number of observations in the window required to have a result.\n",
        "\n",
        "Expanding Window Functions:\n",
        "\n",
        "An expanding window starts with a small window (typically of size 1) and gradually expands as it moves across the dataset. It includes all previous data points up to the current point.\n",
        "\n",
        "Example: expanding() function, often used to calculate cumulative sums or averages.\n",
        "\n",
        "`df['expanding_mean'] = df['column'].expanding().mean()`\n",
        "\n",
        "Exponential Weighted Window Functions:\n",
        "\n",
        "Exponential weighted functions give more weight to recent observations while calculating statistics, which makes it useful for tasks like exponentially weighted moving averages.\n",
        "\n",
        "Example: ewm() method.\n",
        "\n",
        "`df['ewm_mean'] = df['column'].ewm(span=3).mean()\n",
        "`"
      ],
      "metadata": {
        "id": "1ZlM6SYtVs0q"
      }
    },
    {
      "cell_type": "code",
      "source": [
        "df = pd.DataFrame({\n",
        "    'column': [1, 2, 3, 4, 5, 6, 7, 8, 9, 10]\n",
        "})\n",
        "\n",
        "# Rolling window (size=3)\n",
        "df['rolling_mean'] = df['column'].rolling(window=3).mean()\n",
        "\n",
        "# Expanding window (all previous values)\n",
        "df['expanding_mean'] = df['column'].expanding().mean()\n",
        "\n",
        "# Exponential weighted mean (span=3)\n",
        "df['ewm_mean'] = df['column'].ewm(span=3).mean()\n",
        "\n",
        "print(df)"
      ],
      "metadata": {
        "colab": {
          "base_uri": "https://localhost:8080/"
        },
        "id": "dqeTE317VgWr",
        "outputId": "3a60b94b-bfa7-40d3-f7e6-37d2671fa4cb"
      },
      "execution_count": 10,
      "outputs": [
        {
          "output_type": "stream",
          "name": "stdout",
          "text": [
            "   column  rolling_mean  expanding_mean  ewm_mean\n",
            "0       1           NaN             1.0  1.000000\n",
            "1       2           NaN             1.5  1.666667\n",
            "2       3           2.0             2.0  2.428571\n",
            "3       4           3.0             2.5  3.266667\n",
            "4       5           4.0             3.0  4.161290\n",
            "5       6           5.0             3.5  5.095238\n",
            "6       7           6.0             4.0  6.055118\n",
            "7       8           7.0             4.5  7.031373\n",
            "8       9           8.0             5.0  8.017613\n",
            "9      10           9.0             5.5  9.009775\n"
          ]
        }
      ]
    },
    {
      "cell_type": "markdown",
      "source": [
        "# Q7. Write a code to print only the current month and year at the time of answering this question.\n",
        "[Hint: Use pandas.datetime function]"
      ],
      "metadata": {
        "id": "5vKhYW6uWNy5"
      }
    },
    {
      "cell_type": "code",
      "source": [
        "# Get the current date\n",
        "current_date = pd.to_datetime('today')\n",
        "\n",
        "# Extract the current month and year\n",
        "current_month_year = current_date.strftime('%B %Y')\n",
        "\n",
        "print(current_month_year)"
      ],
      "metadata": {
        "colab": {
          "base_uri": "https://localhost:8080/"
        },
        "id": "o3qLrMycWJrA",
        "outputId": "a98f920e-a8a0-42e3-cadb-63f20b77ea4a"
      },
      "execution_count": 11,
      "outputs": [
        {
          "output_type": "stream",
          "name": "stdout",
          "text": [
            "January 2025\n"
          ]
        }
      ]
    },
    {
      "cell_type": "markdown",
      "source": [
        "Q8. Write a Python program that takes in two dates as input (in the format YYYY-MM-DD) and\n",
        "calculates the difference between them in days, hours, and minutes using Pandas time delta. The\n",
        "program should prompt the user to enter the dates and display the result."
      ],
      "metadata": {
        "id": "xS88DHcPWaw-"
      }
    },
    {
      "cell_type": "code",
      "source": [
        "# Taking two dates as input from the user\n",
        "date1_str = input(\"Enter the first date (YYYY-MM-DD): \")\n",
        "date2_str = input(\"Enter the second date (YYYY-MM-DD): \")\n",
        "\n",
        "# Convert the input strings to datetime objects\n",
        "date1 = pd.to_datetime(date1_str)\n",
        "date2 = pd.to_datetime(date2_str)\n",
        "\n",
        "# Calculate the difference between the two dates\n",
        "delta = date2 - date1\n",
        "\n",
        "# Extract days, hours, and minutes from the timedelta\n",
        "days = delta.days\n",
        "hours = delta.seconds // 3600\n",
        "minutes = (delta.seconds % 3600) // 60\n",
        "\n",
        "# Display the result\n",
        "print(f\"The difference between the two dates is {days} days, {hours} hours, and {minutes} minutes.\")"
      ],
      "metadata": {
        "colab": {
          "base_uri": "https://localhost:8080/"
        },
        "id": "gUUM9YbAWVTD",
        "outputId": "418ebbc9-7588-4542-e317-5d89cf84a277"
      },
      "execution_count": 12,
      "outputs": [
        {
          "output_type": "stream",
          "name": "stdout",
          "text": [
            "Enter the first date (YYYY-MM-DD): 2002-01-21\n",
            "Enter the second date (YYYY-MM-DD): 06-01-2025\n",
            "The difference between the two dates is 8532 days, 0 hours, and 0 minutes.\n"
          ]
        }
      ]
    },
    {
      "cell_type": "markdown",
      "source": [
        "Q9. Write a Python program that reads a CSV file containing categorical data and converts a specified\n",
        "column to a categorical data type. The program should prompt the user to enter the file path, column\n",
        "name, and category order, and then display the sorted data."
      ],
      "metadata": {
        "id": "LASEnO_sWt65"
      }
    },
    {
      "cell_type": "markdown",
      "source": [
        "\n",
        "\n",
        "```\n",
        "import pandas as pd\n",
        "\n",
        "def convert_to_categorical():\n",
        "    # Prompt the user for the file path, column name, and category order\n",
        "    file_path = input(\"Enter the path of the CSV file: \")\n",
        "    column_name = input(\"Enter the name of the column to convert: \")\n",
        "    category_order = input(\"Enter the category order (comma-separated values): \").split(',')\n",
        "    \n",
        "    # Read the CSV file into a DataFrame\n",
        "    df = pd.read_csv(file_path)\n",
        "    \n",
        "    # Check if the column exists in the DataFrame\n",
        "    if column_name not in df.columns:\n",
        "        print(f\"Column '{column_name}' not found in the data.\")\n",
        "        return\n",
        "    \n",
        "    # Convert the specified column to categorical type with the user-defined order\n",
        "    df[column_name] = pd.Categorical(df[column_name], categories=category_order, ordered=True)\n",
        "    \n",
        "    # Sort the DataFrame based on the categorical column\n",
        "    sorted_df = df.sort_values(by=column_name)\n",
        "    \n",
        "    # Display the sorted DataFrame\n",
        "    print(\"\\nSorted Data:\")\n",
        "    print(sorted_df)\n",
        "\n",
        "# Run the program\n",
        "convert_to_categorical()\n",
        "\n",
        "```\n",
        "\n"
      ],
      "metadata": {
        "id": "0Qc9P97ZXA5B"
      }
    },
    {
      "cell_type": "markdown",
      "source": [
        "Q10. Write a Python program that reads a CSV file containing sales data for different products and\n",
        "visualizes the data using a stacked bar chart to show the sales of each product category over time. The\n",
        "program should prompt the user to enter the file path and display the chart."
      ],
      "metadata": {
        "id": "9qNKJAyHXQp3"
      }
    },
    {
      "cell_type": "code",
      "source": [
        "import pandas as pd\n",
        "import matplotlib.pyplot as plt\n",
        "\n",
        "def plot_sales():\n",
        "    # Prompt the user for the file path\n",
        "    file_path = input(\"Enter the path of the CSV file: \")\n",
        "\n",
        "    # Read the CSV file into a DataFrame\n",
        "    df = pd.read_csv(file_path)\n",
        "\n",
        "    # Clean the column names (strip spaces)\n",
        "    df.columns = df.columns.str.strip()\n",
        "\n",
        "    # Display the first few rows of the dataframe to check its structure\n",
        "    print(\"\\nData preview:\")\n",
        "    print(df.head())\n",
        "\n",
        "    # Check if required columns exist (time, sales, and category)\n",
        "    if 'Time' not in df.columns or 'Sales' not in df.columns or 'Category' not in df.columns:\n",
        "        print(\"The CSV file must contain 'Time', 'Sales', and 'Category' columns.\")\n",
        "        return\n",
        "\n",
        "    # Pivot the dataframe to create a table with Time as index and sales for each category as columns\n",
        "    pivot_df = df.pivot_table(values='Sales', index='Time', columns='Category', aggfunc='sum')\n",
        "\n",
        "    # Plot the stacked bar chart\n",
        "    pivot_df.plot(kind='bar', stacked=True, figsize=(10, 6))\n",
        "\n",
        "    # Add labels and title\n",
        "    plt.xlabel('Time')\n",
        "    plt.ylabel('Sales')\n",
        "    plt.title('Sales of Each Product Category Over Time')\n",
        "    plt.legend(title='Product Category', bbox_to_anchor=(1.05, 1), loc='upper left')\n",
        "\n",
        "    # Display the chart\n",
        "    plt.tight_layout()\n",
        "    plt.show()\n",
        "\n",
        "# Run the program\n",
        "plot_sales()\n"
      ],
      "metadata": {
        "colab": {
          "base_uri": "https://localhost:8080/"
        },
        "id": "SA8KLNT4W4db",
        "outputId": "534f6d17-4414-4936-82d4-b432482704a1"
      },
      "execution_count": 16,
      "outputs": [
        {
          "output_type": "stream",
          "name": "stdout",
          "text": [
            "Enter the path of the CSV file: /content/sample.csv\n",
            "\n",
            "Data preview:\n",
            "        Time,Category,Sales\n",
            "0   January,Electronics,100\n",
            "1      January,Clothing,150\n",
            "2     January,Furniture,200\n",
            "3  February,Electronics,120\n",
            "4     February,Clothing,180\n",
            "The CSV file must contain 'Time', 'Sales', and 'Category' columns.\n"
          ]
        }
      ]
    },
    {
      "cell_type": "markdown",
      "source": [
        "Q11. You are given a CSV file containing student data that includes the student ID and their test score. Write\n",
        "a Python program that reads the CSV file, calculates the mean, median, and mode of the test scores, and\n",
        "displays the results in a table.\n",
        "The program should do the followingM\n",
        "I Prompt the user to enter the file path of the CSV file containing the student dataR\n",
        "I Read the CSV file into a Pandas DataFrameR\n",
        "I Calculate the mean, median, and mode of the test scores using Pandas toolsR\n",
        "I Display the mean, median, and mode in a table.\n",
        "Assume the CSV file contains the following columnsM\n",
        "I Student ID: The ID of the studentR\n",
        "I Test Score: The score of the student's test.\n",
        "Example usage of the program:\n",
        "Enter the file path of the CSV file containing the student data: student_data.csv\n",
        "\n",
        "+-----------+--------+\n",
        "\n",
        "| Statistic | Value |\n",
        "\n",
        "+-----------+--------+\n",
        "\n",
        "| Mean | 79.6 |\n",
        "\n",
        "| Median | 82 |\n",
        "\n",
        "| Mode | 85, 90 |\n",
        "\n",
        "+-----------+--------+\n",
        "\n",
        "Assume that the CSV file student_data.csv contains the following data:\n",
        "Student ID,Test Score\n",
        "1,85\n",
        "2,90\n",
        "3,80\n",
        "4,75\n",
        "5,85\n",
        "6,82\n",
        "7,78\n",
        "8,85\n",
        "9,90\n",
        "10,85\n",
        "The program should calculate the mean, median, and mode of the test scores and display the results\n",
        "in a table."
      ],
      "metadata": {
        "id": "UOD8ZMl8Y0aS"
      }
    },
    {
      "cell_type": "code",
      "source": [
        "import pandas as pd\n",
        "\n",
        "def calculate_statistics():\n",
        "    # Prompt the user to enter the file path\n",
        "    file_path = input(\"Enter the file path of the CSV file containing the student data: \")\n",
        "\n",
        "    # Read the CSV file into a DataFrame\n",
        "    df = pd.read_csv(file_path)\n",
        "\n",
        "    # Check if 'Test Score' column exists\n",
        "    if 'Test Score' not in df.columns:\n",
        "        print(\"The CSV file must contain a 'Test Score' column.\")\n",
        "        return\n",
        "\n",
        "    # Calculate mean, median, and mode\n",
        "    mean_score = df['Test Score'].mean()\n",
        "    median_score = df['Test Score'].median()\n",
        "    mode_score = df['Test Score'].mode().tolist()\n",
        "\n",
        "    # Display the statistics in a table-like format\n",
        "    print(\"\\n+------------------+-------+\")\n",
        "    print(\"| Statistic       | Value |\")\n",
        "    print(\"+------------------+-------+\")\n",
        "    print(f\"| Mean            | {mean_score:.1f} |\")\n",
        "    print(f\"| Median          | {median_score} |\")\n",
        "    print(f\"| Mode            | {', '.join(map(str, mode_score))} |\")\n",
        "    print(\"+------------------+-------+\")\n",
        "\n",
        "# Run the program\n",
        "calculate_statistics()\n"
      ],
      "metadata": {
        "colab": {
          "base_uri": "https://localhost:8080/"
        },
        "id": "08kOfBjKZ7J_",
        "outputId": "eb92c520-a403-49ec-83a0-3a4ba2e33f16"
      },
      "execution_count": 19,
      "outputs": [
        {
          "output_type": "stream",
          "name": "stdout",
          "text": [
            "Enter the file path of the CSV file containing the student data: /content/student_data.csv\n",
            "\n",
            "+------------------+-------+\n",
            "| Statistic       | Value |\n",
            "+------------------+-------+\n",
            "| Mean            | 83.5 |\n",
            "| Median          | 85.0 |\n",
            "| Mode            | 85 |\n",
            "+------------------+-------+\n"
          ]
        }
      ]
    },
    {
      "cell_type": "code",
      "source": [],
      "metadata": {
        "id": "yUnX5rt2YUnT"
      },
      "execution_count": null,
      "outputs": []
    }
  ]
}