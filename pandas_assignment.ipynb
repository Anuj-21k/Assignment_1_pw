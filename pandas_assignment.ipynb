{
  "nbformat": 4,
  "nbformat_minor": 0,
  "metadata": {
    "colab": {
      "provenance": [],
      "authorship_tag": "ABX9TyOEIDwcTNNZgQquIDy1A6J9"
    },
    "kernelspec": {
      "name": "python3",
      "display_name": "Python 3"
    },
    "language_info": {
      "name": "python"
    }
  },
  "cells": [
    {
      "cell_type": "markdown",
      "source": [
        "Q1. Create a Pandas Series that contains the following data: 4, 8, 15, 16, 23, and 42. Then, print the series."
      ],
      "metadata": {
        "id": "HgZlHcDmLYud"
      }
    },
    {
      "cell_type": "code",
      "source": [
        "import pandas as pd\n",
        "data = pd.Series([4,8,15,16,23,42])\n",
        "print(data)"
      ],
      "metadata": {
        "colab": {
          "base_uri": "https://localhost:8080/"
        },
        "id": "q8uiypeGLYEk",
        "outputId": "f971672c-da9e-4a31-f180-96bca10a94bd"
      },
      "execution_count": 2,
      "outputs": [
        {
          "output_type": "stream",
          "name": "stdout",
          "text": [
            "0     4\n",
            "1     8\n",
            "2    15\n",
            "3    16\n",
            "4    23\n",
            "5    42\n",
            "dtype: int64\n"
          ]
        }
      ]
    },
    {
      "cell_type": "markdown",
      "source": [
        "Q2. Create a variable of list type containing 10 elements in it, and apply pandas.Series function on the\n",
        "variable print it."
      ],
      "metadata": {
        "id": "b1ddzZZcL0zv"
      }
    },
    {
      "cell_type": "code",
      "source": [
        "my_list = [1, 2, 3, 4, 5, 6, 7, 8, 9, 10]\n",
        "series = pd.Series(my_list)\n",
        "print(series)"
      ],
      "metadata": {
        "colab": {
          "base_uri": "https://localhost:8080/"
        },
        "id": "XWspps6GL1WE",
        "outputId": "e97d9064-3242-4c43-8bf8-6f97c24437c5"
      },
      "execution_count": 3,
      "outputs": [
        {
          "output_type": "stream",
          "name": "stdout",
          "text": [
            "0     1\n",
            "1     2\n",
            "2     3\n",
            "3     4\n",
            "4     5\n",
            "5     6\n",
            "6     7\n",
            "7     8\n",
            "8     9\n",
            "9    10\n",
            "dtype: int64\n"
          ]
        }
      ]
    },
    {
      "cell_type": "markdown",
      "source": [
        "Q3. Create a Pandas DataFrame that contains the following data:\n",
        "Name\n",
        "Alice\n",
        "Bob\n",
        "Claire\n",
        "\n",
        "Age\n",
        "25\n",
        "30\n",
        "27\n",
        "\n",
        "Gender\n",
        "Female\n",
        "Male\n",
        "Female\n",
        "Then, print the DataFrame."
      ],
      "metadata": {
        "id": "NTh-2ZVuL8Ks"
      }
    },
    {
      "cell_type": "code",
      "source": [
        "data = {\n",
        "    \"Name\": [\"Alice\", \"Bob\", \"Charlie\"],\n",
        "    \"Age\": [25, 30, 35],\n",
        "    \"City\": [\"New York\", \"Paris\", \"London\"]\n",
        "}\n",
        "df = pd.DataFrame(data)\n",
        "print(df)"
      ],
      "metadata": {
        "colab": {
          "base_uri": "https://localhost:8080/"
        },
        "id": "_tsk4IdqL5HT",
        "outputId": "881daf24-c9ef-4a06-d67f-460be0a729a4"
      },
      "execution_count": 4,
      "outputs": [
        {
          "output_type": "stream",
          "name": "stdout",
          "text": [
            "      Name  Age      City\n",
            "0    Alice   25  New York\n",
            "1      Bob   30     Paris\n",
            "2  Charlie   35    London\n"
          ]
        }
      ]
    },
    {
      "cell_type": "markdown",
      "source": [
        "Q4. What is ‘DataFrame’ in pandas and how is it different from pandas.series? Explain with an example."
      ],
      "metadata": {
        "id": "ZDdpflcSMH2a"
      }
    },
    {
      "cell_type": "code",
      "source": [
        "print(''''Ans: A DataFrame is a 2-dimensional, tabular data structure with rows and columns,\n",
        " while a Series is 1-dimensional and represents a single column or list.''')\n",
        "\n",
        " # Series\n",
        "series = pd.Series([1, 2, 3])\n",
        "print(\"Series: \\n\")\n",
        "print(series)\n",
        "print('\\n')\n",
        "# DataFrame\n",
        "df = pd.DataFrame({'A': [1, 2, 3], 'B': [4, 5, 6]})\n",
        "print(\"Dataframes: \\n\")\n",
        "print(df)"
      ],
      "metadata": {
        "colab": {
          "base_uri": "https://localhost:8080/"
        },
        "id": "UjgI1cLRMFa8",
        "outputId": "f9538e27-d0ce-4f32-e0b5-7b5604fe83a8"
      },
      "execution_count": 9,
      "outputs": [
        {
          "output_type": "stream",
          "name": "stdout",
          "text": [
            "'Ans: A DataFrame is a 2-dimensional, tabular data structure with rows and columns,\n",
            " while a Series is 1-dimensional and represents a single column or list.\n",
            "Series: \n",
            "\n",
            "0    1\n",
            "1    2\n",
            "2    3\n",
            "dtype: int64\n",
            "\n",
            "\n",
            "Dataframes: \n",
            "\n",
            "   A  B\n",
            "0  1  4\n",
            "1  2  5\n",
            "2  3  6\n"
          ]
        }
      ]
    },
    {
      "cell_type": "markdown",
      "source": [
        "Q5. What are some common functions you can use to manipulate data in a Pandas DataFrame? Can\n",
        "you give an example of when you might use one of these functions?"
      ],
      "metadata": {
        "id": "uJHxVeZoM0P1"
      }
    },
    {
      "cell_type": "markdown",
      "source": [
        "### `Ans: Common functions: head(), tail(), describe(), groupby(), apply(), merge()`.\n",
        "\n",
        "`df.groupby(\"Region\")[\"Sales\"].sum()`"
      ],
      "metadata": {
        "id": "rKvjqE4WNG6N"
      }
    },
    {
      "cell_type": "markdown",
      "source": [
        "Q6. Which of the following is mutable in nature Series, DataFrame, Panel?"
      ],
      "metadata": {
        "id": "f6E5Vn9iNXES"
      }
    },
    {
      "cell_type": "markdown",
      "source": [
        "Ans:\n",
        "\n",
        "Series, DataFrame, and Panel are all mutable."
      ],
      "metadata": {
        "id": "LOHel2ZMNZlA"
      }
    },
    {
      "cell_type": "markdown",
      "source": [
        "Q7. Create a DataFrame using multiple Series. Explain with an example."
      ],
      "metadata": {
        "id": "_ptVsdoaNitp"
      }
    },
    {
      "cell_type": "code",
      "source": [
        "s1 = pd.Series([1, 2, 3])\n",
        "s2 = pd.Series([\"A\", \"B\", \"C\"])\n",
        "df = pd.DataFrame({\"Numbers\": s1, \"Letters\": s2})\n",
        "print(df)"
      ],
      "metadata": {
        "colab": {
          "base_uri": "https://localhost:8080/"
        },
        "id": "KBOLzQr5MPrK",
        "outputId": "c69c7e64-ba42-44cc-8a27-ebca70a17ffb"
      },
      "execution_count": 11,
      "outputs": [
        {
          "output_type": "stream",
          "name": "stdout",
          "text": [
            "   Numbers Letters\n",
            "0        1       A\n",
            "1        2       B\n",
            "2        3       C\n"
          ]
        }
      ]
    },
    {
      "cell_type": "code",
      "source": [],
      "metadata": {
        "id": "wiDAkYRBNCmp"
      },
      "execution_count": null,
      "outputs": []
    }
  ]
}