{
  "nbformat": 4,
  "nbformat_minor": 0,
  "metadata": {
    "colab": {
      "provenance": [],
      "authorship_tag": "ABX9TyOU3cxhriSNe14vTjpuP1Gz"
    },
    "kernelspec": {
      "name": "python3",
      "display_name": "Python 3"
    },
    "language_info": {
      "name": "python"
    }
  },
  "cells": [
    {
      "cell_type": "markdown",
      "source": [
        "# Q1. List any five functions of the pandas library with execution."
      ],
      "metadata": {
        "id": "v-FCFRwVOkP6"
      }
    },
    {
      "cell_type": "markdown",
      "source": [
        "# Ans:\n"
      ],
      "metadata": {
        "id": "m5X1kX0rOsJR"
      }
    },
    {
      "cell_type": "markdown",
      "source": [
        "head(): Displays the first few rows of the DataFrame."
      ],
      "metadata": {
        "id": "BoL7w4XcOzf9"
      }
    },
    {
      "cell_type": "code",
      "execution_count": 1,
      "metadata": {
        "colab": {
          "base_uri": "https://localhost:8080/"
        },
        "id": "UAae7JyNOYuc",
        "outputId": "b36ca295-562c-442d-e3fb-c0f0a40a03cc"
      },
      "outputs": [
        {
          "output_type": "stream",
          "name": "stdout",
          "text": [
            "   A  B\n",
            "0  1  4\n",
            "1  2  5\n",
            "2  3  6\n"
          ]
        }
      ],
      "source": [
        "import pandas as pd\n",
        "df = pd.DataFrame({\"A\": [1, 2, 3], \"B\": [4, 5, 6]})\n",
        "print(df.head())"
      ]
    },
    {
      "cell_type": "markdown",
      "source": [
        "tail(): Displays the last few rows of the DataFrame."
      ],
      "metadata": {
        "id": "8GB_dAj9O5IC"
      }
    },
    {
      "cell_type": "code",
      "source": [
        "print(df.tail())"
      ],
      "metadata": {
        "colab": {
          "base_uri": "https://localhost:8080/"
        },
        "id": "Sm9jpLzqO4JS",
        "outputId": "a9845449-a4eb-41a1-e82f-25b1466fb400"
      },
      "execution_count": 2,
      "outputs": [
        {
          "output_type": "stream",
          "name": "stdout",
          "text": [
            "   A  B\n",
            "0  1  4\n",
            "1  2  5\n",
            "2  3  6\n"
          ]
        }
      ]
    },
    {
      "cell_type": "markdown",
      "source": [
        "info(): Provides information about the DataFrame."
      ],
      "metadata": {
        "id": "GYCR8Vw5O-W3"
      }
    },
    {
      "cell_type": "code",
      "source": [
        "print(df.info())\n"
      ],
      "metadata": {
        "colab": {
          "base_uri": "https://localhost:8080/"
        },
        "id": "f6Hmxsa4O8T9",
        "outputId": "716553ba-ac1d-4b8a-aeb0-c8363dd4b14b"
      },
      "execution_count": 3,
      "outputs": [
        {
          "output_type": "stream",
          "name": "stdout",
          "text": [
            "<class 'pandas.core.frame.DataFrame'>\n",
            "RangeIndex: 3 entries, 0 to 2\n",
            "Data columns (total 2 columns):\n",
            " #   Column  Non-Null Count  Dtype\n",
            "---  ------  --------------  -----\n",
            " 0   A       3 non-null      int64\n",
            " 1   B       3 non-null      int64\n",
            "dtypes: int64(2)\n",
            "memory usage: 176.0 bytes\n",
            "None\n"
          ]
        }
      ]
    },
    {
      "cell_type": "markdown",
      "source": [
        "describe(): Summarizes numerical data in the DataFrame."
      ],
      "metadata": {
        "id": "nFCMuwXzPCra"
      }
    },
    {
      "cell_type": "code",
      "source": [
        "print(df.describe())\n"
      ],
      "metadata": {
        "colab": {
          "base_uri": "https://localhost:8080/"
        },
        "id": "qmifZb5aPAFz",
        "outputId": "15812f3d-ca07-4460-f250-9f0c56cd0a2b"
      },
      "execution_count": 4,
      "outputs": [
        {
          "output_type": "stream",
          "name": "stdout",
          "text": [
            "         A    B\n",
            "count  3.0  3.0\n",
            "mean   2.0  5.0\n",
            "std    1.0  1.0\n",
            "min    1.0  4.0\n",
            "25%    1.5  4.5\n",
            "50%    2.0  5.0\n",
            "75%    2.5  5.5\n",
            "max    3.0  6.0\n"
          ]
        }
      ]
    },
    {
      "cell_type": "markdown",
      "source": [
        "dropna(): Removes rows with missing values."
      ],
      "metadata": {
        "id": "T4Rk8HD1PGZ9"
      }
    },
    {
      "cell_type": "code",
      "source": [
        "df = pd.DataFrame({\"A\": [1, None, 3], \"B\": [4, 5, None]})\n",
        "print(df.dropna())"
      ],
      "metadata": {
        "colab": {
          "base_uri": "https://localhost:8080/"
        },
        "id": "aTiLuXuZPEaB",
        "outputId": "84bfa41d-5f19-496e-a23c-e1779184e704"
      },
      "execution_count": 5,
      "outputs": [
        {
          "output_type": "stream",
          "name": "stdout",
          "text": [
            "     A    B\n",
            "0  1.0  4.0\n"
          ]
        }
      ]
    },
    {
      "cell_type": "markdown",
      "source": [
        "# Q2. Given a Pandas DataFrame df with columns 'A', 'B', and 'C', write a Python function to re-index the"
      ],
      "metadata": {
        "id": "zeYqsjkjPMeZ"
      }
    },
    {
      "cell_type": "code",
      "source": [
        "def reindex_dataframe(df):\n",
        "    df.index = range(1, len(df) * 2, 2)\n",
        "    return df\n",
        "reindex_dataframe(df)"
      ],
      "metadata": {
        "colab": {
          "base_uri": "https://localhost:8080/",
          "height": 143
        },
        "id": "u4151gTWPIfZ",
        "outputId": "560bc857-7c8c-4a35-8507-1069978aae8a"
      },
      "execution_count": 6,
      "outputs": [
        {
          "output_type": "execute_result",
          "data": {
            "text/plain": [
              "     A    B\n",
              "1  1.0  4.0\n",
              "3  NaN  5.0\n",
              "5  3.0  NaN"
            ],
            "text/html": [
              "\n",
              "  <div id=\"df-f5a5f23a-ca73-4bf7-9715-cb24f445bd9a\" class=\"colab-df-container\">\n",
              "    <div>\n",
              "<style scoped>\n",
              "    .dataframe tbody tr th:only-of-type {\n",
              "        vertical-align: middle;\n",
              "    }\n",
              "\n",
              "    .dataframe tbody tr th {\n",
              "        vertical-align: top;\n",
              "    }\n",
              "\n",
              "    .dataframe thead th {\n",
              "        text-align: right;\n",
              "    }\n",
              "</style>\n",
              "<table border=\"1\" class=\"dataframe\">\n",
              "  <thead>\n",
              "    <tr style=\"text-align: right;\">\n",
              "      <th></th>\n",
              "      <th>A</th>\n",
              "      <th>B</th>\n",
              "    </tr>\n",
              "  </thead>\n",
              "  <tbody>\n",
              "    <tr>\n",
              "      <th>1</th>\n",
              "      <td>1.0</td>\n",
              "      <td>4.0</td>\n",
              "    </tr>\n",
              "    <tr>\n",
              "      <th>3</th>\n",
              "      <td>NaN</td>\n",
              "      <td>5.0</td>\n",
              "    </tr>\n",
              "    <tr>\n",
              "      <th>5</th>\n",
              "      <td>3.0</td>\n",
              "      <td>NaN</td>\n",
              "    </tr>\n",
              "  </tbody>\n",
              "</table>\n",
              "</div>\n",
              "    <div class=\"colab-df-buttons\">\n",
              "\n",
              "  <div class=\"colab-df-container\">\n",
              "    <button class=\"colab-df-convert\" onclick=\"convertToInteractive('df-f5a5f23a-ca73-4bf7-9715-cb24f445bd9a')\"\n",
              "            title=\"Convert this dataframe to an interactive table.\"\n",
              "            style=\"display:none;\">\n",
              "\n",
              "  <svg xmlns=\"http://www.w3.org/2000/svg\" height=\"24px\" viewBox=\"0 -960 960 960\">\n",
              "    <path d=\"M120-120v-720h720v720H120Zm60-500h600v-160H180v160Zm220 220h160v-160H400v160Zm0 220h160v-160H400v160ZM180-400h160v-160H180v160Zm440 0h160v-160H620v160ZM180-180h160v-160H180v160Zm440 0h160v-160H620v160Z\"/>\n",
              "  </svg>\n",
              "    </button>\n",
              "\n",
              "  <style>\n",
              "    .colab-df-container {\n",
              "      display:flex;\n",
              "      gap: 12px;\n",
              "    }\n",
              "\n",
              "    .colab-df-convert {\n",
              "      background-color: #E8F0FE;\n",
              "      border: none;\n",
              "      border-radius: 50%;\n",
              "      cursor: pointer;\n",
              "      display: none;\n",
              "      fill: #1967D2;\n",
              "      height: 32px;\n",
              "      padding: 0 0 0 0;\n",
              "      width: 32px;\n",
              "    }\n",
              "\n",
              "    .colab-df-convert:hover {\n",
              "      background-color: #E2EBFA;\n",
              "      box-shadow: 0px 1px 2px rgba(60, 64, 67, 0.3), 0px 1px 3px 1px rgba(60, 64, 67, 0.15);\n",
              "      fill: #174EA6;\n",
              "    }\n",
              "\n",
              "    .colab-df-buttons div {\n",
              "      margin-bottom: 4px;\n",
              "    }\n",
              "\n",
              "    [theme=dark] .colab-df-convert {\n",
              "      background-color: #3B4455;\n",
              "      fill: #D2E3FC;\n",
              "    }\n",
              "\n",
              "    [theme=dark] .colab-df-convert:hover {\n",
              "      background-color: #434B5C;\n",
              "      box-shadow: 0px 1px 3px 1px rgba(0, 0, 0, 0.15);\n",
              "      filter: drop-shadow(0px 1px 2px rgba(0, 0, 0, 0.3));\n",
              "      fill: #FFFFFF;\n",
              "    }\n",
              "  </style>\n",
              "\n",
              "    <script>\n",
              "      const buttonEl =\n",
              "        document.querySelector('#df-f5a5f23a-ca73-4bf7-9715-cb24f445bd9a button.colab-df-convert');\n",
              "      buttonEl.style.display =\n",
              "        google.colab.kernel.accessAllowed ? 'block' : 'none';\n",
              "\n",
              "      async function convertToInteractive(key) {\n",
              "        const element = document.querySelector('#df-f5a5f23a-ca73-4bf7-9715-cb24f445bd9a');\n",
              "        const dataTable =\n",
              "          await google.colab.kernel.invokeFunction('convertToInteractive',\n",
              "                                                    [key], {});\n",
              "        if (!dataTable) return;\n",
              "\n",
              "        const docLinkHtml = 'Like what you see? Visit the ' +\n",
              "          '<a target=\"_blank\" href=https://colab.research.google.com/notebooks/data_table.ipynb>data table notebook</a>'\n",
              "          + ' to learn more about interactive tables.';\n",
              "        element.innerHTML = '';\n",
              "        dataTable['output_type'] = 'display_data';\n",
              "        await google.colab.output.renderOutput(dataTable, element);\n",
              "        const docLink = document.createElement('div');\n",
              "        docLink.innerHTML = docLinkHtml;\n",
              "        element.appendChild(docLink);\n",
              "      }\n",
              "    </script>\n",
              "  </div>\n",
              "\n",
              "\n",
              "<div id=\"df-b99d979a-307e-4858-be8e-cfde85ca2d00\">\n",
              "  <button class=\"colab-df-quickchart\" onclick=\"quickchart('df-b99d979a-307e-4858-be8e-cfde85ca2d00')\"\n",
              "            title=\"Suggest charts\"\n",
              "            style=\"display:none;\">\n",
              "\n",
              "<svg xmlns=\"http://www.w3.org/2000/svg\" height=\"24px\"viewBox=\"0 0 24 24\"\n",
              "     width=\"24px\">\n",
              "    <g>\n",
              "        <path d=\"M19 3H5c-1.1 0-2 .9-2 2v14c0 1.1.9 2 2 2h14c1.1 0 2-.9 2-2V5c0-1.1-.9-2-2-2zM9 17H7v-7h2v7zm4 0h-2V7h2v10zm4 0h-2v-4h2v4z\"/>\n",
              "    </g>\n",
              "</svg>\n",
              "  </button>\n",
              "\n",
              "<style>\n",
              "  .colab-df-quickchart {\n",
              "      --bg-color: #E8F0FE;\n",
              "      --fill-color: #1967D2;\n",
              "      --hover-bg-color: #E2EBFA;\n",
              "      --hover-fill-color: #174EA6;\n",
              "      --disabled-fill-color: #AAA;\n",
              "      --disabled-bg-color: #DDD;\n",
              "  }\n",
              "\n",
              "  [theme=dark] .colab-df-quickchart {\n",
              "      --bg-color: #3B4455;\n",
              "      --fill-color: #D2E3FC;\n",
              "      --hover-bg-color: #434B5C;\n",
              "      --hover-fill-color: #FFFFFF;\n",
              "      --disabled-bg-color: #3B4455;\n",
              "      --disabled-fill-color: #666;\n",
              "  }\n",
              "\n",
              "  .colab-df-quickchart {\n",
              "    background-color: var(--bg-color);\n",
              "    border: none;\n",
              "    border-radius: 50%;\n",
              "    cursor: pointer;\n",
              "    display: none;\n",
              "    fill: var(--fill-color);\n",
              "    height: 32px;\n",
              "    padding: 0;\n",
              "    width: 32px;\n",
              "  }\n",
              "\n",
              "  .colab-df-quickchart:hover {\n",
              "    background-color: var(--hover-bg-color);\n",
              "    box-shadow: 0 1px 2px rgba(60, 64, 67, 0.3), 0 1px 3px 1px rgba(60, 64, 67, 0.15);\n",
              "    fill: var(--button-hover-fill-color);\n",
              "  }\n",
              "\n",
              "  .colab-df-quickchart-complete:disabled,\n",
              "  .colab-df-quickchart-complete:disabled:hover {\n",
              "    background-color: var(--disabled-bg-color);\n",
              "    fill: var(--disabled-fill-color);\n",
              "    box-shadow: none;\n",
              "  }\n",
              "\n",
              "  .colab-df-spinner {\n",
              "    border: 2px solid var(--fill-color);\n",
              "    border-color: transparent;\n",
              "    border-bottom-color: var(--fill-color);\n",
              "    animation:\n",
              "      spin 1s steps(1) infinite;\n",
              "  }\n",
              "\n",
              "  @keyframes spin {\n",
              "    0% {\n",
              "      border-color: transparent;\n",
              "      border-bottom-color: var(--fill-color);\n",
              "      border-left-color: var(--fill-color);\n",
              "    }\n",
              "    20% {\n",
              "      border-color: transparent;\n",
              "      border-left-color: var(--fill-color);\n",
              "      border-top-color: var(--fill-color);\n",
              "    }\n",
              "    30% {\n",
              "      border-color: transparent;\n",
              "      border-left-color: var(--fill-color);\n",
              "      border-top-color: var(--fill-color);\n",
              "      border-right-color: var(--fill-color);\n",
              "    }\n",
              "    40% {\n",
              "      border-color: transparent;\n",
              "      border-right-color: var(--fill-color);\n",
              "      border-top-color: var(--fill-color);\n",
              "    }\n",
              "    60% {\n",
              "      border-color: transparent;\n",
              "      border-right-color: var(--fill-color);\n",
              "    }\n",
              "    80% {\n",
              "      border-color: transparent;\n",
              "      border-right-color: var(--fill-color);\n",
              "      border-bottom-color: var(--fill-color);\n",
              "    }\n",
              "    90% {\n",
              "      border-color: transparent;\n",
              "      border-bottom-color: var(--fill-color);\n",
              "    }\n",
              "  }\n",
              "</style>\n",
              "\n",
              "  <script>\n",
              "    async function quickchart(key) {\n",
              "      const quickchartButtonEl =\n",
              "        document.querySelector('#' + key + ' button');\n",
              "      quickchartButtonEl.disabled = true;  // To prevent multiple clicks.\n",
              "      quickchartButtonEl.classList.add('colab-df-spinner');\n",
              "      try {\n",
              "        const charts = await google.colab.kernel.invokeFunction(\n",
              "            'suggestCharts', [key], {});\n",
              "      } catch (error) {\n",
              "        console.error('Error during call to suggestCharts:', error);\n",
              "      }\n",
              "      quickchartButtonEl.classList.remove('colab-df-spinner');\n",
              "      quickchartButtonEl.classList.add('colab-df-quickchart-complete');\n",
              "    }\n",
              "    (() => {\n",
              "      let quickchartButtonEl =\n",
              "        document.querySelector('#df-b99d979a-307e-4858-be8e-cfde85ca2d00 button');\n",
              "      quickchartButtonEl.style.display =\n",
              "        google.colab.kernel.accessAllowed ? 'block' : 'none';\n",
              "    })();\n",
              "  </script>\n",
              "</div>\n",
              "\n",
              "  <div id=\"id_b1355007-2cab-4301-8e03-55bc00d45a93\">\n",
              "    <style>\n",
              "      .colab-df-generate {\n",
              "        background-color: #E8F0FE;\n",
              "        border: none;\n",
              "        border-radius: 50%;\n",
              "        cursor: pointer;\n",
              "        display: none;\n",
              "        fill: #1967D2;\n",
              "        height: 32px;\n",
              "        padding: 0 0 0 0;\n",
              "        width: 32px;\n",
              "      }\n",
              "\n",
              "      .colab-df-generate:hover {\n",
              "        background-color: #E2EBFA;\n",
              "        box-shadow: 0px 1px 2px rgba(60, 64, 67, 0.3), 0px 1px 3px 1px rgba(60, 64, 67, 0.15);\n",
              "        fill: #174EA6;\n",
              "      }\n",
              "\n",
              "      [theme=dark] .colab-df-generate {\n",
              "        background-color: #3B4455;\n",
              "        fill: #D2E3FC;\n",
              "      }\n",
              "\n",
              "      [theme=dark] .colab-df-generate:hover {\n",
              "        background-color: #434B5C;\n",
              "        box-shadow: 0px 1px 3px 1px rgba(0, 0, 0, 0.15);\n",
              "        filter: drop-shadow(0px 1px 2px rgba(0, 0, 0, 0.3));\n",
              "        fill: #FFFFFF;\n",
              "      }\n",
              "    </style>\n",
              "    <button class=\"colab-df-generate\" onclick=\"generateWithVariable('df')\"\n",
              "            title=\"Generate code using this dataframe.\"\n",
              "            style=\"display:none;\">\n",
              "\n",
              "  <svg xmlns=\"http://www.w3.org/2000/svg\" height=\"24px\"viewBox=\"0 0 24 24\"\n",
              "       width=\"24px\">\n",
              "    <path d=\"M7,19H8.4L18.45,9,17,7.55,7,17.6ZM5,21V16.75L18.45,3.32a2,2,0,0,1,2.83,0l1.4,1.43a1.91,1.91,0,0,1,.58,1.4,1.91,1.91,0,0,1-.58,1.4L9.25,21ZM18.45,9,17,7.55Zm-12,3A5.31,5.31,0,0,0,4.9,8.1,5.31,5.31,0,0,0,1,6.5,5.31,5.31,0,0,0,4.9,4.9,5.31,5.31,0,0,0,6.5,1,5.31,5.31,0,0,0,8.1,4.9,5.31,5.31,0,0,0,12,6.5,5.46,5.46,0,0,0,6.5,12Z\"/>\n",
              "  </svg>\n",
              "    </button>\n",
              "    <script>\n",
              "      (() => {\n",
              "      const buttonEl =\n",
              "        document.querySelector('#id_b1355007-2cab-4301-8e03-55bc00d45a93 button.colab-df-generate');\n",
              "      buttonEl.style.display =\n",
              "        google.colab.kernel.accessAllowed ? 'block' : 'none';\n",
              "\n",
              "      buttonEl.onclick = () => {\n",
              "        google.colab.notebook.generateWithVariable('df');\n",
              "      }\n",
              "      })();\n",
              "    </script>\n",
              "  </div>\n",
              "\n",
              "    </div>\n",
              "  </div>\n"
            ],
            "application/vnd.google.colaboratory.intrinsic+json": {
              "type": "dataframe",
              "variable_name": "df",
              "summary": "{\n  \"name\": \"df\",\n  \"rows\": 3,\n  \"fields\": [\n    {\n      \"column\": \"A\",\n      \"properties\": {\n        \"dtype\": \"number\",\n        \"std\": 1.4142135623730951,\n        \"min\": 1.0,\n        \"max\": 3.0,\n        \"num_unique_values\": 2,\n        \"samples\": [\n          3.0,\n          1.0\n        ],\n        \"semantic_type\": \"\",\n        \"description\": \"\"\n      }\n    },\n    {\n      \"column\": \"B\",\n      \"properties\": {\n        \"dtype\": \"number\",\n        \"std\": 0.7071067811865476,\n        \"min\": 4.0,\n        \"max\": 5.0,\n        \"num_unique_values\": 2,\n        \"samples\": [\n          5.0,\n          4.0\n        ],\n        \"semantic_type\": \"\",\n        \"description\": \"\"\n      }\n    }\n  ]\n}"
            }
          },
          "metadata": {},
          "execution_count": 6
        }
      ]
    },
    {
      "cell_type": "markdown",
      "source": [
        "# Q3. You have a Pandas DataFrame df with a column named 'Values'. Write a Python function that iterates over the DataFrame and calculates the sum of the first three values in the 'Values' column. The function should print the sum to the console. For example, if the 'Values' column of df contains the values [10, 20, 30, 40, 50], your function should calculate and print the sum of the first three values, which is 60."
      ],
      "metadata": {
        "id": "XldJz2v1PjJQ"
      }
    },
    {
      "cell_type": "code",
      "source": [
        "def sum_first_three(df):\n",
        "    # Ensure 'Values' column exists\n",
        "    if 'Values' not in df.columns:\n",
        "        print(\"The DataFrame does not have a 'Values' column.\")\n",
        "        return\n",
        "\n",
        "    # Calculate the sum of the first three values\n",
        "    total = 0\n",
        "    for i, value in enumerate(df['Values']):\n",
        "        if i < 3:\n",
        "            total += value\n",
        "        else:\n",
        "            break\n",
        "    print(\"Sum of the first three values:\", total)"
      ],
      "metadata": {
        "id": "K801IOW9PeyJ"
      },
      "execution_count": 7,
      "outputs": []
    },
    {
      "cell_type": "code",
      "source": [
        "data = {'Values': [10, 20, 30, 40, 50]}\n",
        "df = pd.DataFrame(data)\n",
        "sum_first_three(df)"
      ],
      "metadata": {
        "colab": {
          "base_uri": "https://localhost:8080/"
        },
        "id": "UmICkrCpPzTy",
        "outputId": "bd996717-ef3a-437a-f842-a6009e39b7ae"
      },
      "execution_count": 8,
      "outputs": [
        {
          "output_type": "stream",
          "name": "stdout",
          "text": [
            "Sum of the first three values: 60\n"
          ]
        }
      ]
    },
    {
      "cell_type": "markdown",
      "source": [
        "# Q4. Given a Pandas DataFrame df with a column 'Text', write a Python function to create a new column 'Word_Count' that contains the number of words in each row of the 'Text' column."
      ],
      "metadata": {
        "id": "I9jAq-r1P4_k"
      }
    },
    {
      "cell_type": "code",
      "source": [
        "def add_word_count(df):\n",
        "    # Ensure 'Text' column exists\n",
        "    if 'Text' not in df.columns:\n",
        "        print(\"The DataFrame does not have a 'Text' column.\")\n",
        "        return df\n",
        "\n",
        "    # Add the 'Word_Count' column\n",
        "    df['Word_Count'] = df['Text'].apply(lambda x: len(str(x).split()))\n",
        "    return df"
      ],
      "metadata": {
        "id": "WQBTnfd7P1Pr"
      },
      "execution_count": 9,
      "outputs": []
    },
    {
      "cell_type": "code",
      "source": [
        "data = {'Text': ['This is a test', 'Another row here', 'Pandas is great']}\n",
        "df = pd.DataFrame(data)\n",
        "df = add_word_count(df)\n",
        "print(df)"
      ],
      "metadata": {
        "colab": {
          "base_uri": "https://localhost:8080/"
        },
        "id": "jzhKuzBoQBq_",
        "outputId": "a133ddc9-f5e8-41e9-ba5c-50768736230e"
      },
      "execution_count": 10,
      "outputs": [
        {
          "output_type": "stream",
          "name": "stdout",
          "text": [
            "               Text  Word_Count\n",
            "0    This is a test           4\n",
            "1  Another row here           3\n",
            "2   Pandas is great           3\n"
          ]
        }
      ]
    },
    {
      "cell_type": "markdown",
      "source": [
        "# Q5. How are DataFrame.size() and DataFrame.shape() different?"
      ],
      "metadata": {
        "id": "XOry3xTUQI92"
      }
    },
    {
      "cell_type": "markdown",
      "source": [
        "DataFrame.size:\n",
        "\n",
        "Represents the total number of elements in the DataFrame.\n",
        "\n",
        "It is calculated as the product of the number of rows and the number of columns.\n",
        "\n",
        "Returns: An Integer\n"
      ],
      "metadata": {
        "id": "th_42YY2QTIi"
      }
    },
    {
      "cell_type": "code",
      "source": [
        "\n",
        "df = pd.DataFrame({'A': [1, 2, 3], 'B': [4, 5, 6]})\n",
        "print(\"Size:\", df.size)\n"
      ],
      "metadata": {
        "colab": {
          "base_uri": "https://localhost:8080/"
        },
        "id": "eHZJJBjAQDJ_",
        "outputId": "60ef6925-f3fb-406a-be50-b9df7fd032af"
      },
      "execution_count": 11,
      "outputs": [
        {
          "output_type": "stream",
          "name": "stdout",
          "text": [
            "Size: 6\n"
          ]
        }
      ]
    },
    {
      "cell_type": "markdown",
      "source": [
        "DataFrame.shape:\n",
        "\n",
        "Represents the dimensionality of the DataFrame.\n",
        "\n",
        "It returns a tuple (number_of_rows, number_of_columns).\n",
        "\n",
        "Returns: A tuple."
      ],
      "metadata": {
        "id": "r-ZcF1YVQdXN"
      }
    },
    {
      "cell_type": "code",
      "source": [
        "print(\"Shape:\", df.shape)"
      ],
      "metadata": {
        "colab": {
          "base_uri": "https://localhost:8080/"
        },
        "id": "hgTRG_MoQcb6",
        "outputId": "82030b41-44c6-48eb-d23d-5879835a97c2"
      },
      "execution_count": 12,
      "outputs": [
        {
          "output_type": "stream",
          "name": "stdout",
          "text": [
            "Shape: (3, 2)\n"
          ]
        }
      ]
    },
    {
      "cell_type": "markdown",
      "source": [
        "# Q6. Which function of pandas do we use to read an excel file?"
      ],
      "metadata": {
        "id": "-VVMJu3JQtiZ"
      }
    },
    {
      "cell_type": "markdown",
      "source": [
        "\n",
        "\n",
        "```\n",
        "pd.read_excel(io, sheet_name=0, ...)\n",
        "```\n",
        "\n",
        "Read an Excel file\n",
        "\n",
        "df = pd.read_excel('file.xlsx', sheet_name='Sheet1')\n",
        "\n",
        "print(df)\n",
        "\n",
        "\n",
        "\n"
      ],
      "metadata": {
        "id": "mYmfn6kSQv1J"
      }
    },
    {
      "cell_type": "markdown",
      "source": [
        "# Q7. You have a Pandas DataFrame df that contains a column named 'Email' that contains email addresses in the format 'username@domain.com'. Write a Python function that creates a new column 'Username' in df that contains only the username part of each email address. The username is the part of the email address that appears before the '@' symbol. For example, if the email address is 'john.doe@example.com', the 'Username' column should contain 'john.doe'. Your function should extract the username from each email address and store it in the new 'Username' column."
      ],
      "metadata": {
        "id": "4prqwHd5REBE"
      }
    },
    {
      "cell_type": "code",
      "source": [
        "def extract_username(df):\n",
        "    # Ensure 'Email' column exists\n",
        "    if 'Email' not in df.columns:\n",
        "        print(\"The DataFrame does not have an 'Email' column.\")\n",
        "        return df\n",
        "\n",
        "    # Add 'Username' column by splitting at '@'\n",
        "    df['Username'] = df['Email'].apply(lambda x: x.split('@')[0])\n",
        "    return df\n",
        "\n",
        "# sample\n",
        "data = {'Email': ['john.doe@example.com', 'jane.smith@domain.org', 'user123@test.net']}\n",
        "df = pd.DataFrame(data)\n",
        "df = extract_username(df)\n",
        "print(df)"
      ],
      "metadata": {
        "colab": {
          "base_uri": "https://localhost:8080/"
        },
        "id": "FAjl2NBHQh8O",
        "outputId": "2a9e8e93-f0da-40a5-b8ca-9d369887c93f"
      },
      "execution_count": 13,
      "outputs": [
        {
          "output_type": "stream",
          "name": "stdout",
          "text": [
            "                   Email    Username\n",
            "0   john.doe@example.com    john.doe\n",
            "1  jane.smith@domain.org  jane.smith\n",
            "2       user123@test.net     user123\n"
          ]
        }
      ]
    },
    {
      "cell_type": "markdown",
      "source": [
        "Q8. You have a Pandas DataFrame df with columns 'A', 'B', and 'C'. Write a Python function that selects\n",
        "all rows where the value in column 'A' is greater than 5 and the value in column 'B' is less than 10. The\n",
        "function should return a new DataFrame that contains only the selected rows.\n",
        "For example, if df contains the following values:\n",
        "\n",
        "A B C\n",
        "\n",
        "0 3 5 1\n",
        "\n",
        "1 8 2 7\n",
        "\n",
        "2 6 9 4\n",
        "\n",
        "3 2 3 5\n",
        "\n",
        "4 9 1 2\n",
        "\n",
        "Assignment\n",
        "\n",
        "Data Science Masters\n",
        "\n",
        "Your function should select the following rows: A B C\n",
        "\n",
        "1 8 2 7\n",
        "\n",
        "4 9 1 2\n",
        "\n",
        "The function should return a new DataFrame that contains only the selected rows."
      ],
      "metadata": {
        "id": "LNqvLdbiRX9U"
      }
    },
    {
      "cell_type": "code",
      "source": [
        "def filter_rows(df):\n",
        "    # Apply conditions to filter rows\n",
        "    filtered_df = df[(df['A'] > 5) & (df['B'] < 10)]\n",
        "    return filtered_df\n",
        "\n",
        "# Example usage\n",
        "data = {\n",
        "    'A': [3, 8, 6, 2, 9],\n",
        "    'B': [5, 2, 9, 3, 1],\n",
        "    'C': [1, 7, 4, 5, 2]\n",
        "}\n",
        "df = pd.DataFrame(data)\n",
        "\n",
        "result = filter_rows(df)\n",
        "print(result)"
      ],
      "metadata": {
        "colab": {
          "base_uri": "https://localhost:8080/"
        },
        "id": "B754wBmeRNjb",
        "outputId": "d248d859-b74f-497e-bc4a-89a8ffe55a7f"
      },
      "execution_count": 14,
      "outputs": [
        {
          "output_type": "stream",
          "name": "stdout",
          "text": [
            "   A  B  C\n",
            "1  8  2  7\n",
            "2  6  9  4\n",
            "4  9  1  2\n"
          ]
        }
      ]
    },
    {
      "cell_type": "markdown",
      "source": [
        "# Q9. Given a Pandas DataFrame df with a column 'Values', write a Python function to calculate the mean, median, and standard deviation of the values in the 'Values' column."
      ],
      "metadata": {
        "id": "lRFQFFTHRpet"
      }
    },
    {
      "cell_type": "code",
      "source": [
        "def calculate_statistics(df):\n",
        "    # Ensure 'Values' column exists\n",
        "    if 'Values' not in df.columns:\n",
        "        print(\"The DataFrame does not have a 'Values' column.\")\n",
        "        return\n",
        "\n",
        "    # Calculate statistics\n",
        "    mean = df['Values'].mean()\n",
        "    median = df['Values'].median()\n",
        "    std_dev = df['Values'].std()\n",
        "\n",
        "    # Print the results\n",
        "    print(f\"Mean: {mean}\")\n",
        "    print(f\"Median: {median}\")\n",
        "    print(f\"Standard Deviation: {std_dev}\")\n",
        "\n",
        "# sample\n",
        "data = {'Values': [10, 20, 30, 40, 50]}\n",
        "df = pd.DataFrame(data)\n",
        "calculate_statistics(df)"
      ],
      "metadata": {
        "colab": {
          "base_uri": "https://localhost:8080/"
        },
        "id": "GeF6k76JRk8i",
        "outputId": "50ce7a3e-ea4b-41af-d9ad-26cc47fdef53"
      },
      "execution_count": 15,
      "outputs": [
        {
          "output_type": "stream",
          "name": "stdout",
          "text": [
            "Mean: 30.0\n",
            "Median: 30.0\n",
            "Standard Deviation: 15.811388300841896\n"
          ]
        }
      ]
    },
    {
      "cell_type": "markdown",
      "source": [
        "Q10. Given a Pandas DataFrame df with a column 'Sales' and a column 'Date', write a Python function to\n",
        "create a new column 'MovingAverage' that contains the moving average of the sales for the past 7 days\n",
        "for each row in the DataFrame. The moving average should be calculated using a window of size 7 and\n",
        "should include the current day."
      ],
      "metadata": {
        "id": "KfxN26PxR8Aj"
      }
    },
    {
      "cell_type": "code",
      "source": [
        "def add_moving_average(df):\n",
        "    # Ensure the DataFrame has the required columns\n",
        "    if 'Sales' not in df.columns or 'Date' not in df.columns:\n",
        "        print(\"The DataFrame must have 'Sales' and 'Date' columns.\")\n",
        "        return df\n",
        "\n",
        "    # Sort by 'Date' to ensure correct order\n",
        "    df = df.sort_values('Date')\n",
        "\n",
        "    # Calculate the moving average with a window size of 7\n",
        "    df['MovingAverage'] = df['Sales'].rolling(window=7, min_periods=1).mean()\n",
        "    return df\n",
        "\n",
        "# Example usage\n",
        "data = {\n",
        "    'Date': pd.date_range(start='2023-01-01', periods=10, freq='D'),\n",
        "    'Sales': [10, 20, 30, 40, 50, 60, 70, 80, 90, 100]\n",
        "}\n",
        "df = pd.DataFrame(data)\n",
        "\n",
        "result = add_moving_average(df)\n",
        "print(result)"
      ],
      "metadata": {
        "colab": {
          "base_uri": "https://localhost:8080/"
        },
        "id": "jFTB3DqJSGev",
        "outputId": "cc8488a8-800f-499d-cffc-49c61b8bef45"
      },
      "execution_count": 16,
      "outputs": [
        {
          "output_type": "stream",
          "name": "stdout",
          "text": [
            "        Date  Sales  MovingAverage\n",
            "0 2023-01-01     10           10.0\n",
            "1 2023-01-02     20           15.0\n",
            "2 2023-01-03     30           20.0\n",
            "3 2023-01-04     40           25.0\n",
            "4 2023-01-05     50           30.0\n",
            "5 2023-01-06     60           35.0\n",
            "6 2023-01-07     70           40.0\n",
            "7 2023-01-08     80           50.0\n",
            "8 2023-01-09     90           60.0\n",
            "9 2023-01-10    100           70.0\n"
          ]
        }
      ]
    },
    {
      "cell_type": "markdown",
      "source": [
        "Q11. You have a Pandas DataFrame df with a column 'Date'. Write a Python function that creates a new\n",
        "column 'Weekday' in the DataFrame. The 'Weekday' column should contain the weekday name (e.g.\n",
        "Monday, Tuesday) corresponding to each date in the 'Date' column.\n",
        "For example, if df contains the following values:\n",
        "Date\n",
        "\n",
        "0 2023-01-01\n",
        "\n",
        "1 2023-01-02\n",
        "\n",
        "2 2023-01-03\n",
        "\n",
        "3 2023-01-04\n",
        "\n",
        "4 2023-01-05\n",
        "\n",
        "Your function should create the following DataFrame:\n",
        "\n",
        "Date Weekday\n",
        "\n",
        "0 2023-01-01 Sunday\n",
        "\n",
        "1 2023-01-02 Monday\n",
        "\n",
        "2 2023-01-03 Tuesday\n",
        "\n",
        "3 2023-01-04 Wednesday\n",
        "\n",
        "4 2023-01-05 Thursday\n",
        "\n",
        "The function should return the modified DataFrame."
      ],
      "metadata": {
        "id": "7N2JVJn5SOEv"
      }
    },
    {
      "cell_type": "code",
      "source": [
        "def add_weekday(df):\n",
        "    # Ensure 'Date' column exists\n",
        "    if 'Date' not in df.columns:\n",
        "        print(\"The DataFrame must have a 'Date' column.\")\n",
        "        return df\n",
        "\n",
        "    # Convert 'Date' column to datetime format if not already\n",
        "    df['Date'] = pd.to_datetime(df['Date'])\n",
        "\n",
        "    # Create the 'Weekday' column by extracting the weekday name\n",
        "    df['Weekday'] = df['Date'].dt.strftime('%A')\n",
        "\n",
        "    return df\n",
        "\n",
        "# Example usage\n",
        "data = {'Date': ['2023-01-01', '2023-01-02', '2023-01-03', '2023-01-04', '2023-01-05']}\n",
        "df = pd.DataFrame(data)\n",
        "\n",
        "result = add_weekday(df)\n",
        "print(result)"
      ],
      "metadata": {
        "colab": {
          "base_uri": "https://localhost:8080/"
        },
        "id": "NfD4Mj1CR1aS",
        "outputId": "f8e9b982-b9c9-47e5-c3ba-825384b278d6"
      },
      "execution_count": 17,
      "outputs": [
        {
          "output_type": "stream",
          "name": "stdout",
          "text": [
            "        Date    Weekday\n",
            "0 2023-01-01     Sunday\n",
            "1 2023-01-02     Monday\n",
            "2 2023-01-03    Tuesday\n",
            "3 2023-01-04  Wednesday\n",
            "4 2023-01-05   Thursday\n"
          ]
        }
      ]
    },
    {
      "cell_type": "markdown",
      "source": [
        "Q12. Given a Pandas DataFrame df with a column 'Date' that contains timestamps, write a Python\n",
        "function to select all rows where the date is between '2023-01-01' and '2023-01-31'."
      ],
      "metadata": {
        "id": "rGlEfJF4SlDR"
      }
    },
    {
      "cell_type": "code",
      "source": [
        "def filter_dates(df):\n",
        "    # Ensure 'Date' column exists\n",
        "    if 'Date' not in df.columns:\n",
        "        print(\"The DataFrame must have a 'Date' column.\")\n",
        "        return df\n",
        "\n",
        "    # Convert 'Date' column to datetime format if it's not already\n",
        "    df['Date'] = pd.to_datetime(df['Date'])\n",
        "\n",
        "    # Define the date range\n",
        "    start_date = '2023-01-01'\n",
        "    end_date = '2023-01-31'\n",
        "\n",
        "    # Filter the DataFrame for rows where the date is within the specified range\n",
        "    filtered_df = df[(df['Date'] >= start_date) & (df['Date'] <= end_date)]\n",
        "\n",
        "    return filtered_df\n",
        "\n",
        "# Example usage\n",
        "data = {'Date': ['2023-01-01', '2023-01-05', '2023-02-01', '2023-01-15', '2023-01-30']}\n",
        "df = pd.DataFrame(data)\n",
        "\n",
        "result = filter_dates(df)\n",
        "print(result)"
      ],
      "metadata": {
        "colab": {
          "base_uri": "https://localhost:8080/"
        },
        "id": "D-KL-3juSdE4",
        "outputId": "823267a0-e8a7-419d-8439-b3d7b3fd90c5"
      },
      "execution_count": 18,
      "outputs": [
        {
          "output_type": "stream",
          "name": "stdout",
          "text": [
            "        Date\n",
            "0 2023-01-01\n",
            "1 2023-01-05\n",
            "3 2023-01-15\n",
            "4 2023-01-30\n"
          ]
        }
      ]
    },
    {
      "cell_type": "markdown",
      "source": [
        "Q13. To use the basic functions of pandas, what is the first and foremost necessary library that needs to\n",
        "be imported?"
      ],
      "metadata": {
        "id": "ep1UOMe2SqqE"
      }
    },
    {
      "cell_type": "markdown",
      "source": [
        "`import pandas as pd`\n",
        "\n",
        "This allows you to use pandas functions and classes, such as DataFrame, Series, read_csv(), mean(), etc., by referencing the alias pd.\n"
      ],
      "metadata": {
        "id": "PFEkOhGcSxwI"
      }
    },
    {
      "cell_type": "code",
      "source": [],
      "metadata": {
        "id": "VflRj8wtSoAN"
      },
      "execution_count": 18,
      "outputs": []
    }
  ]
}